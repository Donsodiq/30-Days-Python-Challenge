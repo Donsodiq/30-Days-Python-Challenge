{
  "nbformat": 4,
  "nbformat_minor": 0,
  "metadata": {
    "colab": {
      "provenance": []
    },
    "kernelspec": {
      "name": "python3",
      "display_name": "Python 3"
    },
    "language_info": {
      "name": "python"
    }
  },
  "cells": [
    {
      "cell_type": "markdown",
      "source": [
        "Python for loops"
      ],
      "metadata": {
        "id": "RFHxc_XEvk0B"
      }
    },
    {
      "cell_type": "code",
      "source": [
        "#A for loop is used for iterating over a sequence (that is either a list, a tuple, a dictionary, a set, or a string)."
      ],
      "metadata": {
        "id": "G2sGu4mdvsyx"
      },
      "execution_count": 1,
      "outputs": []
    },
    {
      "cell_type": "code",
      "source": [
        "#Let's assume that we got a list of fruits and we gonna print them one by one\n",
        "fruits = [\"Apple\", \"Banana\", \"Oranges\", \"Strawberry\"]\n",
        "for x in fruits:\n",
        "  print(x)"
      ],
      "metadata": {
        "colab": {
          "base_uri": "https://localhost:8080/"
        },
        "id": "eBFdN7Z-v6wH",
        "outputId": "ce328c0f-f087-434f-abc9-6d2c39d2a0ee"
      },
      "execution_count": 2,
      "outputs": [
        {
          "output_type": "stream",
          "name": "stdout",
          "text": [
            "Apple\n",
            "Banana\n",
            "Oranges\n",
            "Strawberry\n"
          ]
        }
      ]
    },
    {
      "cell_type": "code",
      "source": [
        "#We can loop through a string, as they contain a sequence of character\n",
        "name = \"Ajadi Sodiq Abayomi\"\n",
        "for x in name:\n",
        "  print(x)"
      ],
      "metadata": {
        "colab": {
          "base_uri": "https://localhost:8080/"
        },
        "id": "0fS1t_DUwS4R",
        "outputId": "3be86428-fe3d-4c9d-8dd9-454a6cdffdd6"
      },
      "execution_count": 3,
      "outputs": [
        {
          "output_type": "stream",
          "name": "stdout",
          "text": [
            "A\n",
            "j\n",
            "a\n",
            "d\n",
            "i\n",
            " \n",
            "S\n",
            "o\n",
            "d\n",
            "i\n",
            "q\n",
            " \n",
            "A\n",
            "b\n",
            "a\n",
            "y\n",
            "o\n",
            "m\n",
            "i\n"
          ]
        }
      ]
    },
    {
      "cell_type": "code",
      "source": [
        "# With the break statement we can stop the loop before it has looped through all the items\n",
        "#It will break after banana\n",
        "\n",
        "fruits = [\"apple\", \"banana\", \"cherry\", \"Strawberry\"]\n",
        "for x in fruits:\n",
        "  print(x)\n",
        "  if x == \"banana\":\n",
        "    break"
      ],
      "metadata": {
        "colab": {
          "base_uri": "https://localhost:8080/"
        },
        "id": "6A3cPnVTwqdN",
        "outputId": "a95cc233-db22-4623-a194-cf051ad79912"
      },
      "execution_count": 4,
      "outputs": [
        {
          "output_type": "stream",
          "name": "stdout",
          "text": [
            "apple\n",
            "banana\n"
          ]
        }
      ]
    },
    {
      "cell_type": "code",
      "source": [
        "# Exit the loop when x is \"banana\", but this time the break comes before the print\n",
        "\n",
        "fruits = [\"apple\", \"banana\", \"cherry\"]\n",
        "for x in fruits:\n",
        "  if x == \"banana\":\n",
        "    break\n",
        "  print(x)"
      ],
      "metadata": {
        "colab": {
          "base_uri": "https://localhost:8080/"
        },
        "id": "sADOzV6MxHJu",
        "outputId": "c1bae7a8-5ee7-4fb3-975c-343b47ed3b2e"
      },
      "execution_count": 7,
      "outputs": [
        {
          "output_type": "stream",
          "name": "stdout",
          "text": [
            "apple\n"
          ]
        }
      ]
    },
    {
      "cell_type": "code",
      "source": [
        "for i in range(0, 31, 3):\n",
        "  print(i)\n",
        "  if i == 21:\n",
        "    break"
      ],
      "metadata": {
        "colab": {
          "base_uri": "https://localhost:8080/"
        },
        "id": "_7eXfDyMxUQ0",
        "outputId": "520aedc5-c9cf-464e-bb34-a2649dd8c253"
      },
      "execution_count": 6,
      "outputs": [
        {
          "output_type": "stream",
          "name": "stdout",
          "text": [
            "0\n",
            "3\n",
            "6\n",
            "9\n",
            "12\n",
            "15\n",
            "18\n",
            "21\n"
          ]
        }
      ]
    },
    {
      "cell_type": "code",
      "source": [
        "#contniue statement\n",
        "for i in range(0, 31, 3):\n",
        "  if i == 21:\n",
        "    continue\n",
        "  print(i)"
      ],
      "metadata": {
        "colab": {
          "base_uri": "https://localhost:8080/"
        },
        "id": "BKoStXShy6sm",
        "outputId": "3bce792b-5cc6-46b2-c49b-5eadde6af658"
      },
      "execution_count": 9,
      "outputs": [
        {
          "output_type": "stream",
          "name": "stdout",
          "text": [
            "0\n",
            "3\n",
            "6\n",
            "9\n",
            "12\n",
            "15\n",
            "18\n",
            "24\n",
            "27\n",
            "30\n"
          ]
        }
      ]
    },
    {
      "cell_type": "code",
      "source": [
        "fruits = [\"apple\", \"banana\", \"cherry\", \"Strawberry\"]\n",
        "for fruit in fruits:\n",
        "  if fruit == \"cherry\":\n",
        "    continue\n",
        "  print(fruit)"
      ],
      "metadata": {
        "colab": {
          "base_uri": "https://localhost:8080/"
        },
        "id": "PytYhlKvzUMT",
        "outputId": "47aadf44-0e92-44cb-f49f-42edf62646c0"
      },
      "execution_count": 10,
      "outputs": [
        {
          "output_type": "stream",
          "name": "stdout",
          "text": [
            "apple\n",
            "banana\n",
            "Strawberry\n"
          ]
        }
      ]
    },
    {
      "cell_type": "code",
      "source": [
        "# The else keyword in a for loop specifies a block of code to be executed when the loop is finished:\n",
        "\n",
        "for i in range(3, 30, 3):\n",
        "  print(i)\n",
        "else:\n",
        "  print(\"These are the number divisible by 3\")"
      ],
      "metadata": {
        "colab": {
          "base_uri": "https://localhost:8080/"
        },
        "id": "F_93tg87zmIA",
        "outputId": "103ea400-6468-4c5a-bd7d-bc68d43a83db"
      },
      "execution_count": 12,
      "outputs": [
        {
          "output_type": "stream",
          "name": "stdout",
          "text": [
            "3\n",
            "6\n",
            "9\n",
            "12\n",
            "15\n",
            "18\n",
            "21\n",
            "24\n",
            "27\n",
            "These are the number divisible by 3\n"
          ]
        }
      ]
    },
    {
      "cell_type": "code",
      "source": [
        "#Another thing to put in mind when using the else statement is that, it's not going to work if the codes got terminated by break\n",
        "\n",
        "for i in range(0, 30, 3):\n",
        "  if i == 21:\n",
        "    break\n",
        "  print(i)\n",
        "else:\n",
        "  print(\"This is the output\")"
      ],
      "metadata": {
        "colab": {
          "base_uri": "https://localhost:8080/"
        },
        "id": "qbLS1u6V2HJC",
        "outputId": "1a74c653-3659-4796-d4be-a7fd744424fb"
      },
      "execution_count": 13,
      "outputs": [
        {
          "output_type": "stream",
          "name": "stdout",
          "text": [
            "0\n",
            "3\n",
            "6\n",
            "9\n",
            "12\n",
            "15\n",
            "18\n"
          ]
        }
      ]
    },
    {
      "cell_type": "code",
      "source": [
        "adj = [\"red\", \"big\", \"tasty\"]\n",
        "fruits = [\"apple\", \"banana\", \"cherry\"]\n",
        "\n",
        "for x in adj:\n",
        "  for y in fruits:\n",
        "    print(x, y)"
      ],
      "metadata": {
        "colab": {
          "base_uri": "https://localhost:8080/"
        },
        "id": "jYbYxCMw2vfm",
        "outputId": "739cd9f2-d1d9-44a9-8478-dde63414cfde"
      },
      "execution_count": 17,
      "outputs": [
        {
          "output_type": "stream",
          "name": "stdout",
          "text": [
            "red apple\n",
            "red banana\n",
            "red cherry\n",
            "big apple\n",
            "big banana\n",
            "big cherry\n",
            "tasty apple\n",
            "tasty banana\n",
            "tasty cherry\n"
          ]
        }
      ]
    },
    {
      "cell_type": "code",
      "source": [
        "#To be specific with the adjective to fruits, we can make use of the zip function\n",
        "adj = [\"red\", \"big\", \"tasty\"]\n",
        "fruits = [\"apple\", \"banana\", \"cherry\"]\n",
        "\n",
        "for x, y in zip(adj, fruits):\n",
        "    print(x, y)"
      ],
      "metadata": {
        "colab": {
          "base_uri": "https://localhost:8080/"
        },
        "id": "OK55SDAW5l9s",
        "outputId": "bd48b88a-b018-4301-c280-4df932151e33"
      },
      "execution_count": 18,
      "outputs": [
        {
          "output_type": "stream",
          "name": "stdout",
          "text": [
            "red apple\n",
            "big banana\n",
            "tasty cherry\n"
          ]
        }
      ]
    },
    {
      "cell_type": "code",
      "source": [
        "# for loops cannot be empty, but if you for some reason have a for loop with no content, put in the pass statement to avoid getting an error.\n",
        "for x in [0, 1, 2]:\n",
        "  pass"
      ],
      "metadata": {
        "id": "xCI2E9wo7IK7"
      },
      "execution_count": 19,
      "outputs": []
    },
    {
      "cell_type": "code",
      "source": [],
      "metadata": {
        "id": "d-K0Hcka75dW"
      },
      "execution_count": null,
      "outputs": []
    }
  ]
}