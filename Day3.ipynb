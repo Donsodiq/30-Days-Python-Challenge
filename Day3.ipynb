{
 "cells": [
  {
   "cell_type": "code",
   "execution_count": null,
   "metadata": {},
   "outputs": [],
   "source": [
    "#IfElseIfElse"
   ]
  },
  {
   "cell_type": "code",
   "execution_count": 4,
   "metadata": {},
   "outputs": [],
   "source": [
    "#if conditon == True:\n",
    "#    do something \n",
    "\n",
    "age = input(\"what is your age: \")\n",
    "\n",
    "if age == 16:\n",
    "    print(\"hey, you are 16\")\n",
    "#By assigning 12 to the age, nothing will be printed"
   ]
  },
  {
   "cell_type": "code",
   "execution_count": 5,
   "metadata": {},
   "outputs": [],
   "source": [
    "#if conditon == True:\n",
    "#    do something \n",
    "\n",
    "age = input(\"what is your age: \")\n",
    "\n",
    "if age == 16:\n",
    "    print(\"hey, you are 16\")\n",
    "#By assigning 16 to the age also nothing will be printed. This is because the age is a string and not an integer.  "
   ]
  },
  {
   "cell_type": "code",
   "execution_count": 6,
   "metadata": {},
   "outputs": [
    {
     "name": "stdout",
     "output_type": "stream",
     "text": [
      "hey, you are 16\n"
     ]
    }
   ],
   "source": [
    "#To fix the above issue, we can convert the age to an integer\n",
    "age = int(input(\"what is your age: \"))\n",
    "\n",
    "if age == 16:\n",
    "    print(\"hey, you are 16\")\n",
    "#So we got the output \"hey, you are 16\" because the age is now an integer and not a string. "
   ]
  },
  {
   "cell_type": "code",
   "execution_count": 7,
   "metadata": {},
   "outputs": [
    {
     "name": "stdout",
     "output_type": "stream",
     "text": [
      "you are younger than 16\n"
     ]
    }
   ],
   "source": [
    "#moving to the esle statement\n",
    "age = int(input(\"what is your age: \"))\n",
    "if age >= 16:\n",
    "    print(\"hey, you are older than 16\")\n",
    "else:\n",
    "    print(\"you are younger than 16\")"
   ]
  },
  {
   "cell_type": "code",
   "execution_count": 8,
   "metadata": {},
   "outputs": [
    {
     "name": "stdout",
     "output_type": "stream",
     "text": [
      "You are likely to be in school of engineering\n"
     ]
    }
   ],
   "source": [
    "Univeristy_of_Manchester_Sch_fee = int(input(\"what is your school fee: \"))\n",
    "\n",
    "if Univeristy_of_Manchester_Sch_fee >= 10000:\n",
    "    print(\"You are likely to be in school of engineering\")\n",
    "elif Univeristy_of_Manchester_Sch_fee >= 20000:\n",
    "    print(\"You are likely to be in school of business\")\n",
    "elif Univeristy_of_Manchester_Sch_fee >= 30000:\n",
    "    print(\"You are likely to be in school of medicine\")\n",
    "else:\n",
    "    print(\"You are likely to be in school of law\")\n",
    "    "
   ]
  },
  {
   "cell_type": "code",
   "execution_count": 9,
   "metadata": {},
   "outputs": [],
   "source": [
    "#Chained conditionals and Nested statements\n",
    "x = 10\n",
    "y = 12\n",
    "\n",
    "if x == y and x + y == 22:\n",
    "    print(\"x and y are equal and the sum of x and y is 22\")\n",
    "\n",
    "#The statement above will not return anything because of the \"and\" operator. \n",
    "# The \"and\" operator requires both conditions to be true before it can return anything."
   ]
  },
  {
   "cell_type": "code",
   "execution_count": 12,
   "metadata": {},
   "outputs": [
    {
     "name": "stdout",
     "output_type": "stream",
     "text": [
      "True\n"
     ]
    }
   ],
   "source": [
    "x = 10\n",
    "y = 12\n",
    "\n",
    "if x == 10 and x + y == 22:\n",
    "    print(\"True\")"
   ]
  },
  {
   "cell_type": "code",
   "execution_count": 13,
   "metadata": {},
   "outputs": [
    {
     "name": "stdout",
     "output_type": "stream",
     "text": [
      "x = 2 and y = 3\n",
      "End of the program\n"
     ]
    }
   ],
   "source": [
    "#Nested loop\n",
    "\n",
    "x = 2\n",
    "y = 3\n",
    "\n",
    "if x == 2:\n",
    "    if y == 3:\n",
    "        print(\"x = 2 and y = 3\")\n",
    "    else:\n",
    "        print(\"x = 2 and y != 3\")\n",
    "else:\n",
    "    print(\"x != 2\")\n",
    "print(\"End of the program\")"
   ]
  },
  {
   "cell_type": "code",
   "execution_count": 16,
   "metadata": {},
   "outputs": [
    {
     "name": "stdout",
     "output_type": "stream",
     "text": [
      "x != 2\n",
      "End of the program\n"
     ]
    }
   ],
   "source": [
    "#Nested loop\n",
    "\n",
    "x = 5\n",
    "y = 3\n",
    "\n",
    "if x == 2:\n",
    "    if y == 3:\n",
    "        print(\"x = 2 and y = 3\")\n",
    "    else:\n",
    "        print(\"x = 2 and y != 3\")\n",
    "else:\n",
    "    print(\"x != 2\")\n",
    "print(\"End of the program\")\n",
    "#The output returned the statement under the general else statement because the condition x == 2 is not true."
   ]
  },
  {
   "cell_type": "code",
   "execution_count": 2,
   "metadata": {},
   "outputs": [
    {
     "name": "stdout",
     "output_type": "stream",
     "text": [
      "0\n",
      "1\n",
      "2\n",
      "3\n",
      "4\n",
      "5\n",
      "6\n",
      "7\n",
      "8\n",
      "9\n"
     ]
    }
   ],
   "source": [
    "#for loop in python\n",
    "\n",
    "for x in range(0, 10):\n",
    "    print(x)"
   ]
  },
  {
   "cell_type": "code",
   "execution_count": 3,
   "metadata": {},
   "outputs": [
    {
     "name": "stdout",
     "output_type": "stream",
     "text": [
      "0\n",
      "4\n",
      "8\n"
     ]
    }
   ],
   "source": [
    "#for loop in python\n",
    "for x in range(0,12,4):\n",
    "    print(x)"
   ]
  },
  {
   "cell_type": "code",
   "execution_count": 20,
   "metadata": {},
   "outputs": [
    {
     "name": "stdout",
     "output_type": "stream",
     "text": [
      "0\n",
      "3\n",
      "6\n",
      "9\n"
     ]
    }
   ],
   "source": [
    "for x in range(0, 10, 3):\n",
    "    print(x)"
   ]
  },
  {
   "cell_type": "code",
   "execution_count": 4,
   "metadata": {},
   "outputs": [
    {
     "name": "stdout",
     "output_type": "stream",
     "text": [
      "3\n",
      "6\n",
      "9\n",
      "12\n",
      "15\n",
      "18\n",
      "21\n",
      "24\n",
      "27\n",
      "30\n"
     ]
    }
   ],
   "source": [
    "#A loop that returns the 3 and its divisible from 3 to 30\n",
    "for x in range(3, 31, 3):\n",
    "    print(x)"
   ]
  },
  {
   "cell_type": "code",
   "execution_count": null,
   "metadata": {},
   "outputs": [],
   "source": []
  }
 ],
 "metadata": {
  "kernelspec": {
   "display_name": "Python 3",
   "language": "python",
   "name": "python3"
  },
  "language_info": {
   "codemirror_mode": {
    "name": "ipython",
    "version": 3
   },
   "file_extension": ".py",
   "mimetype": "text/x-python",
   "name": "python",
   "nbconvert_exporter": "python",
   "pygments_lexer": "ipython3",
   "version": "3.12.0"
  }
 },
 "nbformat": 4,
 "nbformat_minor": 2
}
