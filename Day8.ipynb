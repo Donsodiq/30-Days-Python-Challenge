{
 "cells": [
  {
   "cell_type": "code",
   "execution_count": 1,
   "metadata": {},
   "outputs": [],
   "source": [
    "#Python Dictionary\n",
    "#Dictionary items are ordered, changeable, and do not allow duplicates. \n",
    "#The items in dictionary are presented in Key: value pairs, and it can be called or access using the key name"
   ]
  },
  {
   "cell_type": "code",
   "execution_count": 3,
   "metadata": {},
   "outputs": [
    {
     "name": "stdout",
     "output_type": "stream",
     "text": [
      "Ford\n"
     ]
    }
   ],
   "source": [
    "#Example 1:\n",
    "thisdict = {\n",
    "    \"brand\": \"Ford\",\n",
    "    \"model\": \"Mustang\",\n",
    "    \"year\": 1964\n",
    "}\n",
    "print(thisdict[\"brand\"])"
   ]
  },
  {
   "cell_type": "code",
   "execution_count": 4,
   "metadata": {},
   "outputs": [
    {
     "name": "stdout",
     "output_type": "stream",
     "text": [
      "3\n"
     ]
    }
   ],
   "source": [
    "#Example 2: To determine how many items a dictionary has, use the len() function\n",
    "print(len(thisdict))"
   ]
  },
  {
   "cell_type": "code",
   "execution_count": 5,
   "metadata": {},
   "outputs": [
    {
     "name": "stdout",
     "output_type": "stream",
     "text": [
      "{'brand': 'Ford', 'model': 'Mustang', 'year': 1964}\n"
     ]
    }
   ],
   "source": [
    "#Example3: We can use the the dict() constructor to make a new dictionary\n",
    "mydict = dict(brand=\"Ford\", model=\"Mustang\", year=1964)\n",
    "print(mydict)"
   ]
  },
  {
   "cell_type": "code",
   "execution_count": 6,
   "metadata": {},
   "outputs": [
    {
     "name": "stdout",
     "output_type": "stream",
     "text": [
      "{'names': ['John', 'Doe', 'Jane'], 'school': 'University of Nairobi', 'age': (23, 24, 25)}\n"
     ]
    }
   ],
   "source": [
    "new_dict = {\n",
    "    \"names\": [\"John\", \"Doe\", \"Jane\"],\n",
    "    \"school\": \"University of Nairobi\",\n",
    "    \"age\": (23, 24, 25)\n",
    "}\n",
    "\n",
    "print(new_dict)"
   ]
  },
  {
   "cell_type": "code",
   "execution_count": 10,
   "metadata": {},
   "outputs": [
    {
     "data": {
      "text/plain": [
       "'Jane'"
      ]
     },
     "execution_count": 10,
     "metadata": {},
     "output_type": "execute_result"
    }
   ],
   "source": [
    "#Accessing Items\n",
    "#To access the name jane, we can use the below approach\n",
    "new_dict[\"names\"][2]"
   ]
  },
  {
   "cell_type": "code",
   "execution_count": 11,
   "metadata": {},
   "outputs": [
    {
     "data": {
      "text/plain": [
       "'University of Nairobi'"
      ]
     },
     "execution_count": 11,
     "metadata": {},
     "output_type": "execute_result"
    }
   ],
   "source": [
    "#We can make use of a method called get() to access the value of the key\n",
    "\n",
    "new_dict.get(\"school\")"
   ]
  },
  {
   "cell_type": "code",
   "execution_count": 15,
   "metadata": {},
   "outputs": [
    {
     "data": {
      "text/plain": [
       "'Doe'"
      ]
     },
     "execution_count": 15,
     "metadata": {},
     "output_type": "execute_result"
    }
   ],
   "source": [
    "new_dict.get(\"names\")[1]"
   ]
  },
  {
   "cell_type": "code",
   "execution_count": 16,
   "metadata": {},
   "outputs": [
    {
     "name": "stdout",
     "output_type": "stream",
     "text": [
      "dict_keys(['names', 'school', 'age'])\n",
      "dict_keys(['names', 'school', 'age', 'height'])\n"
     ]
    }
   ],
   "source": [
    "#using the Keys() method to return the keys of a dictionary\n",
    "\n",
    "new_dict = {\n",
    "    \"names\": [\"John\", \"Doe\", \"Jane\"],\n",
    "    \"school\": \"University of Nairobi\",\n",
    "    \"age\": (23, 24, 25)\n",
    "}\n",
    "\n",
    "df = new_dict.keys()\n",
    "print(df)\n",
    "\n",
    "new_dict[\"height\"] = [6.5, 5.6, 7.2]\n",
    "print(df)"
   ]
  },
  {
   "cell_type": "code",
   "execution_count": 17,
   "metadata": {},
   "outputs": [
    {
     "data": {
      "text/plain": [
       "dict_values([['John', 'Doe', 'Jane'], 'University of Nairobi', (23, 24, 25), [6.5, 5.6, 7.2]])"
      ]
     },
     "execution_count": 17,
     "metadata": {},
     "output_type": "execute_result"
    }
   ],
   "source": [
    "new_dict.values()"
   ]
  },
  {
   "cell_type": "code",
   "execution_count": 18,
   "metadata": {},
   "outputs": [
    {
     "data": {
      "text/plain": [
       "dict_items([('names', ['John', 'Doe', 'Jane']), ('school', 'University of Nairobi'), ('age', (23, 24, 25)), ('height', [6.5, 5.6, 7.2])])"
      ]
     },
     "execution_count": 18,
     "metadata": {},
     "output_type": "execute_result"
    }
   ],
   "source": [
    "new_dict.items()"
   ]
  },
  {
   "cell_type": "code",
   "execution_count": 21,
   "metadata": {},
   "outputs": [
    {
     "name": "stdout",
     "output_type": "stream",
     "text": [
      "Yes, 'age' is one of the keys in the new_dict dictionary\n"
     ]
    }
   ],
   "source": [
    "#We can check if a key exists in a dictionary using the \"in\" keyword\n",
    "\n",
    "new_dict = {\n",
    "    \"names\": [\"John\", \"Doe\", \"Jane\"],\n",
    "    \"school\": \"University of Nairobi\",\n",
    "    \"age\": (23, 24, 25)\n",
    "}\n",
    "\n",
    "if \"age\" in new_dict:\n",
    "    print(\"Yes, 'age' is one of the keys in the new_dict dictionary\")\n",
    "else:\n",
    "    print(\"No, 'age' is not one of the keys in the new_dict dictionary\")"
   ]
  },
  {
   "cell_type": "code",
   "execution_count": 23,
   "metadata": {},
   "outputs": [
    {
     "name": "stdout",
     "output_type": "stream",
     "text": [
      "Yes, 'age' is one of the keys in the new_dict dictionary\n"
     ]
    }
   ],
   "source": [
    "#We can check if a key exists in a dictionary using the \"in\" keyword\n",
    "\n",
    "new_dict = {\n",
    "    \"names\": [\"John\", \"Doe\", \"Jane\"],\n",
    "    \"school\": \"University of Nairobi\",\n",
    "    \"age\": (23, 24, 25)\n",
    "}\n",
    "\n",
    "if \"age\" in new_dict:\n",
    "    print(\"Yes, 'age' is one of the keys in the new_dict dictionary\")\n",
    "else:\n",
    "    print(\"No, 'age' is not one of the keys in the new_dict dictionary\")"
   ]
  },
  {
   "cell_type": "code",
   "execution_count": null,
   "metadata": {},
   "outputs": [],
   "source": []
  }
 ],
 "metadata": {
  "kernelspec": {
   "display_name": "Python 3",
   "language": "python",
   "name": "python3"
  },
  "language_info": {
   "codemirror_mode": {
    "name": "ipython",
    "version": 3
   },
   "file_extension": ".py",
   "mimetype": "text/x-python",
   "name": "python",
   "nbconvert_exporter": "python",
   "pygments_lexer": "ipython3",
   "version": "3.12.0"
  }
 },
 "nbformat": 4,
 "nbformat_minor": 2
}
