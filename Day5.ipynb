{
 "cells": [
  {
   "cell_type": "code",
   "execution_count": 2,
   "metadata": {},
   "outputs": [
    {
     "name": "stdout",
     "output_type": "stream",
     "text": [
      "['Apple', 'Strawbeery', 'Mango']\n"
     ]
    },
    {
     "data": {
      "text/plain": [
       "'Strawbeery'"
      ]
     },
     "execution_count": 2,
     "metadata": {},
     "output_type": "execute_result"
    }
   ],
   "source": [
    "#List and tuple\n",
    "fruits = [\"Apple\", \"Strawbeery\", \"Mango\"]\n",
    "print(fruits)\n",
    "fruits[1]"
   ]
  },
  {
   "cell_type": "code",
   "execution_count": 3,
   "metadata": {},
   "outputs": [
    {
     "name": "stdout",
     "output_type": "stream",
     "text": [
      "['Apple', 'Strawbeery', 'Mango', 'Banana']\n"
     ]
    }
   ],
   "source": [
    "#To add an element to the list\n",
    "#We make use of the function called \"append\", which means like adding to the end of the list\n",
    "fruits = [\"Apple\", \"Strawbeery\", \"Mango\"]\n",
    "fruits.append(\"Banana\")\n",
    "print(fruits)"
   ]
  },
  {
   "cell_type": "code",
   "execution_count": 5,
   "metadata": {},
   "outputs": [
    {
     "name": "stdout",
     "output_type": "stream",
     "text": [
      "['Apple', 'Strawbeery', 'Mango', 'Cherry']\n"
     ]
    }
   ],
   "source": [
    "#To change elements in the list\n",
    "fruits[3] = \"Cherry\"\n",
    "print(fruits)"
   ]
  },
  {
   "cell_type": "code",
   "execution_count": 11,
   "metadata": {},
   "outputs": [
    {
     "name": "stdout",
     "output_type": "stream",
     "text": [
      "['Apple', 'Strawbeery', 'Mango', 'Cherry', 'pineapple', 'Orange', ['pineapple', 'Orange'], ['sugar_cane', 'Guava']]\n"
     ]
    }
   ],
   "source": [
    "fruits.append([\"sugar_cane\", \"Guava\"])\n",
    "print(fruits)\n"
   ]
  },
  {
   "cell_type": "code",
   "execution_count": 9,
   "metadata": {},
   "outputs": [
    {
     "name": "stdout",
     "output_type": "stream",
     "text": [
      "['Apple', 'Strawbeery', 'Mango', 'Cherry', 'pineapple', 'Orange']\n"
     ]
    }
   ],
   "source": [
    "fruits.extend([\"pineapple\", \"Orange\"])\n",
    "print(fruits)"
   ]
  },
  {
   "cell_type": "code",
   "execution_count": 13,
   "metadata": {},
   "outputs": [],
   "source": [
    "names = [\"John\", \"James\", \"Peter\", \"Paul\"] "
   ]
  },
  {
   "cell_type": "code",
   "execution_count": 17,
   "metadata": {},
   "outputs": [
    {
     "name": "stdout",
     "output_type": "stream",
     "text": [
      "['John', 'James', 'Mary', 'Mary', 'Mary', 'Mary', 'Peter', 'Paul']\n"
     ]
    }
   ],
   "source": [
    "#This function will allow the user to insert a new element in a specific index\n",
    "names.insert(2, \"Mary\")\n",
    "print(names)"
   ]
  },
  {
   "cell_type": "code",
   "execution_count": 18,
   "metadata": {},
   "outputs": [],
   "source": [
    "names.remove(\"Mary\")"
   ]
  },
  {
   "cell_type": "code",
   "execution_count": 19,
   "metadata": {},
   "outputs": [
    {
     "name": "stdout",
     "output_type": "stream",
     "text": [
      "['John', 'James', 'Mary', 'Mary', 'Mary', 'Peter', 'Paul']\n"
     ]
    }
   ],
   "source": [
    "print(names)"
   ]
  },
  {
   "cell_type": "code",
   "execution_count": 24,
   "metadata": {},
   "outputs": [],
   "source": [
    "names.remove(\"Mary\")"
   ]
  },
  {
   "cell_type": "code",
   "execution_count": 25,
   "metadata": {},
   "outputs": [
    {
     "name": "stdout",
     "output_type": "stream",
     "text": [
      "['John', 'James', 'Mary', 'Peter', 'Paul']\n"
     ]
    }
   ],
   "source": [
    "print(names)"
   ]
  },
  {
   "cell_type": "code",
   "execution_count": 26,
   "metadata": {},
   "outputs": [
    {
     "name": "stdout",
     "output_type": "stream",
     "text": [
      "Mary\n",
      "['John', 'James', 'Peter', 'Paul']\n"
     ]
    }
   ],
   "source": [
    "#pop function\n",
    "popped_item = names.pop(2)\n",
    "print(popped_item)\n",
    "print(names)"
   ]
  },
  {
   "cell_type": "code",
   "execution_count": 27,
   "metadata": {},
   "outputs": [
    {
     "name": "stdout",
     "output_type": "stream",
     "text": [
      "Paul\n",
      "['John', 'James', 'Peter']\n"
     ]
    }
   ],
   "source": [
    "#Using pop without an index will remove the last element in the list\n",
    "random_pop = names.pop()\n",
    "print(random_pop)\n",
    "print(names)"
   ]
  },
  {
   "cell_type": "code",
   "execution_count": 30,
   "metadata": {},
   "outputs": [
    {
     "name": "stdout",
     "output_type": "stream",
     "text": [
      "1\n"
     ]
    }
   ],
   "source": [
    "#index function\n",
    "Number_2_names  = names.index(\"James\")\n",
    "print(Number_2_names)"
   ]
  },
  {
   "cell_type": "code",
   "execution_count": 31,
   "metadata": {},
   "outputs": [
    {
     "data": {
      "text/plain": [
       "'James'"
      ]
     },
     "execution_count": 31,
     "metadata": {},
     "output_type": "execute_result"
    }
   ],
   "source": [
    "names[Number_2_names] "
   ]
  },
  {
   "cell_type": "code",
   "execution_count": 32,
   "metadata": {},
   "outputs": [
    {
     "name": "stdout",
     "output_type": "stream",
     "text": [
      "This is not the guy\n",
      "Sodiq\n",
      "This is not the guy\n",
      "This is not the guy\n",
      "Sodiq\n"
     ]
    }
   ],
   "source": [
    "#Iteration in a list using for loop\n",
    "names = [\"Ajadi\", \"Sodiq\", \"Abayomi\", \"Oluwadamilare\", \"Sodiq\"]\n",
    "\n",
    "for name in names: \n",
    "  if name == \"Sodiq\":\n",
    "    print(names[1])\n",
    "  else:\n",
    "    print(\"This is not the guy\")"
   ]
  },
  {
   "cell_type": "code",
   "execution_count": 33,
   "metadata": {},
   "outputs": [
    {
     "name": "stdout",
     "output_type": "stream",
     "text": [
      "This is not the guy\n",
      "Sodiq\n",
      "This is not the guy\n",
      "This is not the guy\n",
      "Sodiq\n",
      "Sodiq\n"
     ]
    }
   ],
   "source": [
    "#Alternatively, we can run the above code like this. See the code below\n",
    "names = [\"Ajadi\", \"Sodiq\", \"Abayomi\", \"Oluwadamilare\", \"Sodiq\", \"Sodiq\"]\n",
    "for x in range(len(names)):\n",
    "  if names[x] == \"Sodiq\":\n",
    "    print(names[x])\n",
    "  else:\n",
    "    print(\"This is not the guy\")"
   ]
  },
  {
   "cell_type": "code",
   "execution_count": 34,
   "metadata": {},
   "outputs": [
    {
     "name": "stdout",
     "output_type": "stream",
     "text": [
      "Ajadi Sodiq\n"
     ]
    }
   ],
   "source": [
    "#String method\n",
    "text = input(\"please enter your name\")\n",
    "print(text.strip())"
   ]
  },
  {
   "cell_type": "code",
   "execution_count": 35,
   "metadata": {},
   "outputs": [
    {
     "name": "stdout",
     "output_type": "stream",
     "text": [
      "Ajadi Sodiq\n"
     ]
    }
   ],
   "source": [
    "#left and right strip\n",
    "print(text.rstrip())"
   ]
  },
  {
   "cell_type": "code",
   "execution_count": 36,
   "metadata": {},
   "outputs": [
    {
     "name": "stdout",
     "output_type": "stream",
     "text": [
      "Ajadi Sodiq\n"
     ]
    }
   ],
   "source": [
    "#left and right strip\n",
    "print(text.lstrip())"
   ]
  },
  {
   "cell_type": "code",
   "execution_count": 37,
   "metadata": {},
   "outputs": [
    {
     "name": "stdout",
     "output_type": "stream",
     "text": [
      "Ajadi Sodiq\n",
      "11\n"
     ]
    }
   ],
   "source": [
    "new_name = text.strip()\n",
    "print(new_name)\n",
    "print(len(new_name))"
   ]
  },
  {
   "cell_type": "code",
   "execution_count": 38,
   "metadata": {},
   "outputs": [
    {
     "data": {
      "text/plain": [
       "'ajadi sodiq'"
      ]
     },
     "execution_count": 38,
     "metadata": {},
     "output_type": "execute_result"
    }
   ],
   "source": [
    "text.lower()"
   ]
  },
  {
   "cell_type": "code",
   "execution_count": 39,
   "metadata": {},
   "outputs": [
    {
     "data": {
      "text/plain": [
       "'AJADI SODIQ'"
      ]
     },
     "execution_count": 39,
     "metadata": {},
     "output_type": "execute_result"
    }
   ],
   "source": [
    "text.upper()"
   ]
  },
  {
   "cell_type": "code",
   "execution_count": 40,
   "metadata": {},
   "outputs": [
    {
     "name": "stdout",
     "output_type": "stream",
     "text": [
      "['Ajadi', 'Sodiq']\n"
     ]
    }
   ],
   "source": [
    "splitted_name = new_name.split()\n",
    "print(splitted_name)"
   ]
  },
  {
   "cell_type": "code",
   "execution_count": 41,
   "metadata": {},
   "outputs": [
    {
     "data": {
      "text/plain": [
       "'Ajadi'"
      ]
     },
     "execution_count": 41,
     "metadata": {},
     "output_type": "execute_result"
    }
   ],
   "source": [
    "splitted_name[0]"
   ]
  },
  {
   "cell_type": "code",
   "execution_count": 42,
   "metadata": {},
   "outputs": [
    {
     "data": {
      "text/plain": [
       "['This', 'is', 'a', 'test']"
      ]
     },
     "execution_count": 42,
     "metadata": {},
     "output_type": "execute_result"
    }
   ],
   "source": [
    "df = \"This.is.a.test\"\n",
    "df.split(\".\")"
   ]
  },
  {
   "cell_type": "code",
   "execution_count": 1,
   "metadata": {},
   "outputs": [
    {
     "name": "stdout",
     "output_type": "stream",
     "text": [
      "1\n"
     ]
    }
   ],
   "source": [
    "number = 10\n",
    "\n",
    "if  number >= 10:\n",
    "    print(\"1\")\n",
    "    if number < 10:\n",
    "        print(\"2\")\n",
    "else:\n",
    "    print(\"3\")"
   ]
  },
  {
   "cell_type": "code",
   "execution_count": null,
   "metadata": {},
   "outputs": [],
   "source": []
  }
 ],
 "metadata": {
  "kernelspec": {
   "display_name": "Python 3",
   "language": "python",
   "name": "python3"
  },
  "language_info": {
   "codemirror_mode": {
    "name": "ipython",
    "version": 3
   },
   "file_extension": ".py",
   "mimetype": "text/x-python",
   "name": "python",
   "nbconvert_exporter": "python",
   "pygments_lexer": "ipython3",
   "version": "3.12.0"
  }
 },
 "nbformat": 4,
 "nbformat_minor": 2
}
