{
 "cells": [
  {
   "cell_type": "code",
   "execution_count": 3,
   "metadata": {},
   "outputs": [
    {
     "name": "stdout",
     "output_type": "stream",
     "text": [
      "0\n",
      "1\n",
      "2\n",
      "3\n",
      "4\n",
      "5\n"
     ]
    }
   ],
   "source": [
    "#while loop\n",
    "i = 0\n",
    "while i < 5:\n",
    "    print(i)\n",
    "    i += 1"
   ]
  },
  {
   "cell_type": "code",
   "execution_count": 5,
   "metadata": {},
   "outputs": [
    {
     "name": "stdout",
     "output_type": "stream",
     "text": [
      "0\n",
      "1\n",
      "2\n",
      "3\n",
      "4\n",
      "5\n"
     ]
    }
   ],
   "source": [
    "#I can extend it to print from 0 to 5 by using less or equal to sign\n",
    "\n",
    "#while loop\n",
    "i = 0\n",
    "while i <= 5:\n",
    "    print(i)\n",
    "    i += 1"
   ]
  },
  {
   "cell_type": "code",
   "execution_count": 10,
   "metadata": {},
   "outputs": [
    {
     "name": "stdout",
     "output_type": "stream",
     "text": [
      "You guessed the correct number in 1 tries\n"
     ]
    }
   ],
   "source": [
    "#using a counter in a while loop\n",
    "counter = 0\n",
    "num = 0\n",
    "\n",
    "while num != 5:\n",
    "    num = int(input(\"Enter a number between 0 and 10: \"))\n",
    "    counter += 1\n",
    "print(f\"You guessed the correct number in {counter} tries\")"
   ]
  },
  {
   "cell_type": "code",
   "execution_count": 11,
   "metadata": {},
   "outputs": [],
   "source": [
    "##Thisis great"
   ]
  },
  {
   "cell_type": "code",
   "execution_count": 9,
   "metadata": {},
   "outputs": [
    {
     "name": "stdout",
     "output_type": "stream",
     "text": [
      "London\n",
      "New York\n",
      "Madrid\n",
      "Paris\n"
     ]
    }
   ],
   "source": [
    "cities = [\"London\", \"New York\", \"Madrid\", \"Paris\"]\n",
    "i = 0\n",
    "while i < len(cities):\n",
    "    print(cities[i])\n",
    "    i += 1"
   ]
  },
  {
   "cell_type": "code",
   "execution_count": 7,
   "metadata": {},
   "outputs": [
    {
     "name": "stdout",
     "output_type": "stream",
     "text": [
      "You guessed wrong, please try again!\n",
      "You are a genius, you guessed right!\n"
     ]
    }
   ],
   "source": [
    "#I will be working on while loops and other similar functions in this file\n",
    "#This code will use to make a guess of my birth year\n",
    "DOB = 1993\n",
    "\n",
    "while DOB:\n",
    "    guess = int(input(\"Please enter your guess for my birth year: \"))\n",
    "    if guess == DOB:\n",
    "        print(\"You are a genius, you guessed right!\")\n",
    "    else:\n",
    "        print(\"You guessed wrong, please try again!\")\n",
    "        continue    \n",
    "    break"
   ]
  },
  {
   "cell_type": "code",
   "execution_count": 1,
   "metadata": {},
   "outputs": [
    {
     "name": "stdout",
     "output_type": "stream",
     "text": [
      "oops! You have entered a wrong password. Please try again or use the forget password link\n",
      "You are welcome to this webiste\n"
     ]
    }
   ],
   "source": [
    "#writing a code to check if the user get the password right\n",
    "password = \"University\"\n",
    "\n",
    "while password:\n",
    "    guess = input(\"Please enter the university password:\")\n",
    "    if guess == password: \n",
    "        print(\"You are welcome to this webiste\")\n",
    "    else:\n",
    "        print(\"oops! You have entered a wrong password. Please try again or use the forget password link\")\n",
    "        continue\n",
    "    break\n"
   ]
  },
  {
   "cell_type": "code",
   "execution_count": null,
   "metadata": {},
   "outputs": [],
   "source": []
  }
 ],
 "metadata": {
  "kernelspec": {
   "display_name": "Python 3",
   "language": "python",
   "name": "python3"
  },
  "language_info": {
   "codemirror_mode": {
    "name": "ipython",
    "version": 3
   },
   "file_extension": ".py",
   "mimetype": "text/x-python",
   "name": "python",
   "nbconvert_exporter": "python",
   "pygments_lexer": "ipython3",
   "version": "3.12.0"
  }
 },
 "nbformat": 4,
 "nbformat_minor": 2
}
