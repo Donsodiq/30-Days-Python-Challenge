{
 "cells": [
  {
   "cell_type": "code",
   "execution_count": 2,
   "metadata": {},
   "outputs": [],
   "source": [
    "#Function in python\n",
    "def AddTWO (x):\n",
    "    return x+2\n"
   ]
  },
  {
   "cell_type": "code",
   "execution_count": 4,
   "metadata": {},
   "outputs": [
    {
     "name": "stdout",
     "output_type": "stream",
     "text": [
      "The value of force is 98.0 N\n"
     ]
    }
   ],
   "source": [
    "#Writing a function that return the value of force in Newton\n",
    "def force (mass, acceleration):\n",
    "    return mass*acceleration\n",
    "\n",
    "Output = force(10, 9.8)\n",
    "print(f\"The value of force is {Output} N\")"
   ]
  },
  {
   "cell_type": "code",
   "execution_count": 1,
   "metadata": {},
   "outputs": [],
   "source": [
    "def myfunction():\n",
    "  print(\"My function in python\")"
   ]
  },
  {
   "cell_type": "code",
   "execution_count": 2,
   "metadata": {},
   "outputs": [
    {
     "name": "stdout",
     "output_type": "stream",
     "text": [
      "Hello from a function\n"
     ]
    }
   ],
   "source": [
    "def my_function():\n",
    "  print(\"Hello from a function\")\n",
    "\n",
    "my_function()"
   ]
  },
  {
   "cell_type": "code",
   "execution_count": 3,
   "metadata": {},
   "outputs": [
    {
     "name": "stdout",
     "output_type": "stream",
     "text": [
      "Emil Refsnes\n",
      "Tobias Refsnes\n",
      "Linus Refsnes\n"
     ]
    }
   ],
   "source": [
    "def my_function(fname):\n",
    "  print(fname + \" Refsnes\")\n",
    "\n",
    "my_function(\"Emil\")\n",
    "my_function(\"Tobias\")\n",
    "my_function(\"Linus\")"
   ]
  },
  {
   "cell_type": "code",
   "execution_count": 4,
   "metadata": {},
   "outputs": [
    {
     "name": "stdout",
     "output_type": "stream",
     "text": [
      "Ajadi Sodiq Abayomi\n"
     ]
    }
   ],
   "source": [
    "#A function that return my Full name\n",
    "def Full_name(L_name):\n",
    "  print(L_name + \" \" + \"Sodiq Abayomi\")\n",
    "\n",
    "Full_name(\"Ajadi\")\n",
    "\n",
    "#From a function's perspective:\n",
    "\n",
    "#A parameter is the variable listed inside the parentheses in the function definition.\n",
    "\n",
    "#An argument is the value that is sent to the function when it is called."
   ]
  },
  {
   "cell_type": "code",
   "execution_count": 5,
   "metadata": {},
   "outputs": [
    {
     "name": "stdout",
     "output_type": "stream",
     "text": [
      "The only student from India is Swetha\n"
     ]
    }
   ],
   "source": [
    "def India_Student(*Mespom):\n",
    "  print(\"The only student from India is \" + Mespom[2])\n",
    "\n",
    "India_Student(\"Sodiq\", \"Kanak\", \"Swetha\", \"Gemechu\")"
   ]
  },
  {
   "cell_type": "code",
   "execution_count": 6,
   "metadata": {},
   "outputs": [
    {
     "name": "stdout",
     "output_type": "stream",
     "text": [
      "The youngest child is Linus\n"
     ]
    }
   ],
   "source": [
    "def my_function(*kids):\n",
    "  print(\"The youngest child is \" + kids[2])\n",
    "\n",
    "my_function(\"Emil\", \"Tobias\", \"Linus\")"
   ]
  },
  {
   "cell_type": "code",
   "execution_count": 7,
   "metadata": {},
   "outputs": [
    {
     "name": "stdout",
     "output_type": "stream",
     "text": [
      "His last name is Refsnes\n"
     ]
    }
   ],
   "source": [
    "def my_function(**kid):\n",
    "  print(\"His last name is \" + kid[\"lname\"])\n",
    "\n",
    "my_function(fname = \"Tobias\", lname = \"Refsnes\")"
   ]
  },
  {
   "cell_type": "code",
   "execution_count": 8,
   "metadata": {},
   "outputs": [
    {
     "name": "stdout",
     "output_type": "stream",
     "text": [
      "I am from Pakistann\n",
      "I am from Nigeria\n"
     ]
    }
   ],
   "source": [
    "#Default parameters\n",
    "def my_function(country = \"Nigeria\"):\n",
    "  print(\"I am from \" + country)\n",
    "\n",
    "my_function(\"Pakistann\")\n",
    "my_function()"
   ]
  },
  {
   "cell_type": "code",
   "execution_count": 9,
   "metadata": {},
   "outputs": [
    {
     "name": "stdout",
     "output_type": "stream",
     "text": [
      "Ajadi\n",
      "Sodiq\n",
      "Abayomi\n",
      "Bolaji\n"
     ]
    }
   ],
   "source": [
    "def my_function(student_Names):\n",
    "  for name in student_Names:\n",
    "    print(name)\n",
    "\n",
    "Names = [\"Ajadi\", \"Sodiq\", \"Abayomi\", \"Bolaji\"]\n",
    "my_function(Names)"
   ]
  },
  {
   "cell_type": "code",
   "execution_count": 10,
   "metadata": {},
   "outputs": [
    {
     "name": "stdout",
     "output_type": "stream",
     "text": [
      "1\n",
      "3\n",
      "5\n",
      "7\n",
      "9\n",
      "11\n",
      "13\n",
      "15\n",
      "17\n",
      "19\n",
      "21\n",
      "23\n"
     ]
    }
   ],
   "source": [
    "def my_func():\n",
    "  for x in range(1,24,2):\n",
    "    print(x)\n",
    "\n",
    "my_func()"
   ]
  },
  {
   "cell_type": "code",
   "execution_count": 11,
   "metadata": {},
   "outputs": [
    {
     "name": "stdout",
     "output_type": "stream",
     "text": [
      "60\n"
     ]
    }
   ],
   "source": [
    "#return value\n",
    "def my_func(x):\n",
    "  return 5 * x\n",
    "\n",
    "print(my_func(12))"
   ]
  },
  {
   "cell_type": "code",
   "execution_count": 12,
   "metadata": {},
   "outputs": [
    {
     "name": "stdout",
     "output_type": "stream",
     "text": [
      "4\n"
     ]
    }
   ],
   "source": [
    "#positional-only argument\n",
    "\n",
    "def func(x, /):\n",
    "  return x * 2\n",
    "\n",
    "print(func(2))\n"
   ]
  },
  {
   "cell_type": "code",
   "execution_count": 13,
   "metadata": {},
   "outputs": [
    {
     "name": "stdout",
     "output_type": "stream",
     "text": [
      "26\n"
     ]
    }
   ],
   "source": [
    "#You can combine the two argument types in the same function.\n",
    "\n",
    "#Any argument before the / , are positional-only, and any argument after the *, are keyword-only.\n",
    "\n",
    "def my_function(a, b, /, *, c, d):\n",
    "  print(a + b + c + d)\n",
    "\n",
    "my_function(5, 6, c = 7, d = 8)"
   ]
  },
  {
   "cell_type": "code",
   "execution_count": 14,
   "metadata": {},
   "outputs": [
    {
     "name": "stdout",
     "output_type": "stream",
     "text": [
      "\n",
      "\n",
      "Recursion Example Results\n",
      "1\n",
      "3\n",
      "6\n",
      "10\n",
      "15\n",
      "21\n"
     ]
    },
    {
     "data": {
      "text/plain": [
       "21"
      ]
     },
     "execution_count": 14,
     "metadata": {},
     "output_type": "execute_result"
    }
   ],
   "source": [
    "def tri_recursion(k):\n",
    "  if(k > 0):\n",
    "    result = k + tri_recursion(k - 1)\n",
    "    print(result)\n",
    "  else:\n",
    "    result = 0\n",
    "  return result\n",
    "\n",
    "print(\"\\n\\nRecursion Example Results\")\n",
    "tri_recursion(6)"
   ]
  },
  {
   "cell_type": "code",
   "execution_count": 15,
   "metadata": {},
   "outputs": [
    {
     "name": "stdout",
     "output_type": "stream",
     "text": [
      "Your BMI is 50.30, which is classified as Obesity.\n"
     ]
    }
   ],
   "source": [
    "# Write a Python function that calculates the Body Mass Index (BMI) and categorizes the result\n",
    "\n",
    "def calculate_BMI(weight, height): \n",
    "    bmi = weight / (height ** 2)\n",
    "    \n",
    "    if bmi < 18.5:\n",
    "        return f\"Your BMI is {bmi:.2f}, which is classified as Underweight.\"\n",
    "    elif bmi <= 24.9:\n",
    "        return f\"Your BMI is {bmi:.2f}, which is classified as Normal weight.\"\n",
    "    elif bmi <= 29.9:\n",
    "        return f\"Your BMI is {bmi:.2f}, which is classified as Overweight.\"\n",
    "    else: \n",
    "        return f\"Your BMI is {bmi:.2f}, which is classified as Obesity.\"\n",
    "\n",
    "# Test the function\n",
    "print(calculate_BMI(85, 1.3))\n"
   ]
  },
  {
   "cell_type": "code",
   "execution_count": null,
   "metadata": {},
   "outputs": [],
   "source": []
  }
 ],
 "metadata": {
  "kernelspec": {
   "display_name": "Python 3",
   "language": "python",
   "name": "python3"
  },
  "language_info": {
   "codemirror_mode": {
    "name": "ipython",
    "version": 3
   },
   "file_extension": ".py",
   "mimetype": "text/x-python",
   "name": "python",
   "nbconvert_exporter": "python",
   "pygments_lexer": "ipython3",
   "version": "3.12.0"
  }
 },
 "nbformat": 4,
 "nbformat_minor": 2
}
