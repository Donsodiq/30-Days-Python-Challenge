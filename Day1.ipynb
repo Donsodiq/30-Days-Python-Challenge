{
 "cells": [
  {
   "cell_type": "markdown",
   "metadata": {},
   "source": [
    "I begin with the name of Almighty Allah"
   ]
  },
  {
   "cell_type": "markdown",
   "metadata": {
    "vscode": {
     "languageId": "plaintext"
    }
   },
   "source": [
    "Variables and Data Types"
   ]
  },
  {
   "cell_type": "code",
   "execution_count": 2,
   "metadata": {},
   "outputs": [],
   "source": [
    "#Data types in python\n",
    "int_num = 10\n",
    "string = \"Ajadi\", \"Oluwaseun\", \"1\"\n",
    "Boolean = True & False\n",
    "Float = 10.0, 21.3, 3.14"
   ]
  },
  {
   "cell_type": "code",
   "execution_count": 3,
   "metadata": {},
   "outputs": [
    {
     "name": "stdout",
     "output_type": "stream",
     "text": [
      "Tim\n"
     ]
    }
   ],
   "source": [
    "#Assining a name to a variable\n",
    "name = \"Tim\"\n",
    "print(name)"
   ]
  },
  {
   "cell_type": "code",
   "execution_count": 4,
   "metadata": {},
   "outputs": [
    {
     "name": "stdout",
     "output_type": "stream",
     "text": [
      "Bob\n"
     ]
    }
   ],
   "source": [
    "name = \"Bob\"\n",
    "print(name)"
   ]
  },
  {
   "cell_type": "code",
   "execution_count": 5,
   "metadata": {},
   "outputs": [
    {
     "name": "stdout",
     "output_type": "stream",
     "text": [
      "20\n"
     ]
    }
   ],
   "source": [
    "age = 20\n",
    "print(age)"
   ]
  },
  {
   "cell_type": "code",
   "execution_count": 6,
   "metadata": {},
   "outputs": [
    {
     "name": "stdout",
     "output_type": "stream",
     "text": [
      "Tim\n",
      "Sodiq\n"
     ]
    }
   ],
   "source": [
    "Name = \"Tim\"\n",
    "name = \"Sodiq\"\n",
    "#The two variables are different because they are case sensitive\n",
    "print(Name)\n",
    "print(name)"
   ]
  },
  {
   "cell_type": "code",
   "execution_count": 7,
   "metadata": {},
   "outputs": [
    {
     "name": "stdout",
     "output_type": "stream",
     "text": [
      "30.5\n"
     ]
    }
   ],
   "source": [
    "df = 10.2\n",
    "df2 = 20.3\n",
    "df3 = df + df2\n",
    "print(df3)"
   ]
  },
  {
   "cell_type": "code",
   "execution_count": 1,
   "metadata": {},
   "outputs": [
    {
     "name": "stdout",
     "output_type": "stream",
     "text": [
      "My name is Ajadi Oluwaseun I am a student of University of Ibadan I am studying Computer Science I am a Islam\n"
     ]
    }
   ],
   "source": [
    "University = \"University of Ibadan\"\n",
    "Course = \"Computer Science\"\n",
    "Name = \"Ajadi Oluwaseun\"\n",
    "Religion = \"Islam\"\n",
    "\n",
    "print(\"My name is\", Name, \"I am a student of\", University, \"I am studying\", Course, \"I am a\", Religion)"
   ]
  },
  {
   "cell_type": "code",
   "execution_count": null,
   "metadata": {},
   "outputs": [],
   "source": []
  }
 ],
 "metadata": {
  "kernelspec": {
   "display_name": "Python 3",
   "language": "python",
   "name": "python3"
  },
  "language_info": {
   "codemirror_mode": {
    "name": "ipython",
    "version": 3
   },
   "file_extension": ".py",
   "mimetype": "text/x-python",
   "name": "python",
   "nbconvert_exporter": "python",
   "pygments_lexer": "ipython3",
   "version": "3.12.0"
  }
 },
 "nbformat": 4,
 "nbformat_minor": 2
}
